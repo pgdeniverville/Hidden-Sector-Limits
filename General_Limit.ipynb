{
 "metadata": {
  "name": "",
  "signature": "sha256:142c8cb72b4d85432e3a764811850ba09c23eb3c28a57f00ff0576127754cfd8"
 },
 "nbformat": 3,
 "nbformat_minor": 0,
 "worksheets": [
  {
   "cells": [
    {
     "cell_type": "code",
     "collapsed": false,
     "input": [
      "import numpy as np\n",
      "import math\n",
      "from scipy.special import kn\n",
      "from scipy.interpolate import interp1d\n",
      "from scipy.interpolate import griddata\n",
      "from scipy.interpolate import SmoothBivariateSpline\n",
      "from scipy.optimize import brentq\n",
      "from scipy.integrate import quad\n",
      "import matplotlib.pyplot as plt"
     ],
     "language": "python",
     "metadata": {},
     "outputs": [],
     "prompt_number": 138
    },
    {
     "cell_type": "code",
     "collapsed": false,
     "input": [
      "gev=1;mev=1e-3*gev;kev=1e-6*gev;"
     ],
     "language": "python",
     "metadata": {},
     "outputs": [],
     "prompt_number": 139
    },
    {
     "cell_type": "code",
     "collapsed": false,
     "input": [
      "mp=0.938272046*gev;melec=511*kev;mmuon=105.658*mev;mpi=134.9767*mev;mpip=139.57018*mev;mkaon=0.493667*gev;mj_psi=3.097*gev;"
     ],
     "language": "python",
     "metadata": {},
     "outputs": [],
     "prompt_number": 140
    },
    {
     "cell_type": "code",
     "collapsed": false,
     "input": [
      "tauK=1.23e-8;alpha_em=1.0/137.035999139;Brj_psi_to_ee=0.0594;Brj_psi_to_mumu=0.0593;Brj_psi_to_invis=7e-4;"
     ],
     "language": "python",
     "metadata": {},
     "outputs": [],
     "prompt_number": 141
    },
    {
     "cell_type": "code",
     "collapsed": false,
     "input": [
      "hbar=float(1.054*1e-34/(1.6e-19)/(1e9));speed_of_light=3e8;conversion=hbar**2*speed_of_light**2;"
     ],
     "language": "python",
     "metadata": {},
     "outputs": [],
     "prompt_number": 142
    },
    {
     "cell_type": "code",
     "collapsed": false,
     "input": [
      "relic_density_sigma=1e-40"
     ],
     "language": "python",
     "metadata": {},
     "outputs": [],
     "prompt_number": 143
    },
    {
     "cell_type": "code",
     "collapsed": false,
     "input": [
      "#Checks that a string is actually a number.\n",
      "def is_number(s):\n",
      "    try:\n",
      "        float(s)\n",
      "        return True\n",
      "    except ValueError:\n",
      "        return False    "
     ],
     "language": "python",
     "metadata": {},
     "outputs": [],
     "prompt_number": 144
    },
    {
     "cell_type": "code",
     "collapsed": false,
     "input": [
      "#Generate a string from a mass. Only set up for keV and GeV right now.\n",
      "def masstext(m):\n",
      "    mstr=\"\"\n",
      "    if m>=gev:\n",
      "        if m==1.0 or m==2.0:\n",
      "            mstr=mstr+str(int(m))\n",
      "        else:\n",
      "            mstr=mstr+str(m)\n",
      "        mstr=mstr+\"gev\"\n",
      "    else:\n",
      "        if m*1000%1 == 0.0:\n",
      "            mstr=mstr+str(int(m*1000))+\"mev\"\n",
      "        else:\n",
      "            mstr=mstr+str(m*1000)+\"mev\"\n",
      "    return mstr"
     ],
     "language": "python",
     "metadata": {},
     "outputs": [],
     "prompt_number": 145
    },
    {
     "cell_type": "code",
     "collapsed": false,
     "input": [
      "def reduced_mass(m1,m2):\n",
      "    return m1*m2/(m1+m2)\n",
      "def sigman(mv,mx,kappa,alpha_p):\n",
      "    return 16*math.pi*kappa**2*alpha_em*alpha_p*reduced_mass(mp,mx)**2/mv**4*0.25\n",
      "def sigman_to_kappa(sigma,mv,mx,alpha_p):\n",
      "    return math.sqrt(sigma/conversion/100**2/(16*math.pi*alpha_em*alpha_p*reduced_mass(mp,mx)**2/mv**4*0.25))\n",
      "\n",
      "def sigman_to_kappa2(sigma,mv,mx,alpha_p):\n",
      "    return math.sqrt(sigma/conversion/100**2/sigman(mv,mx,1,alpha_p))\n",
      "\n",
      "def sigman_B(mv,mx,alpha_b):\n",
      "    return 16*math.pi*alpha_b**2*reduced_mass(mp,mx)**2/mv**4\n",
      "def sigman_to_alpha_b(sigman,mv,mx):\n",
      "    return math.sqrt(sigman/conversion/100**2/sigman_B(mv,mx,1))"
     ],
     "language": "python",
     "metadata": {},
     "outputs": [],
     "prompt_number": 146
    },
    {
     "cell_type": "code",
     "collapsed": false,
     "input": [
      "#RRatio\n",
      "def format_rratio(rratio):\n",
      "    for line in rratio:\n",
      "        linearr=line.split()\n",
      "        if len(linearr)>=14:\n",
      "            try:\n",
      "                yield [float(linearr[0]),float(linearr[3])]\n",
      "            except ValueError:\n",
      "                continue\n",
      "\n",
      "with open('data/rratio.dat','r') as infile:\n",
      "    rratio1=infile.read()\n",
      "rratio_rough = rratio1.splitlines()\n",
      "rratio_clean=np.array(list(format_rratio(rratio_rough)),dtype=float)\n",
      "f_rratio = interp1d(rratio_clean[:,0],rratio_clean[:,1])\n",
      "def rratio(s):\n",
      "    if s<rratio_clean[0,0]:\n",
      "        return 0\n",
      "    else:\n",
      "        return f_rratio(s)"
     ],
     "language": "python",
     "metadata": {},
     "outputs": [],
     "prompt_number": 147
    },
    {
     "cell_type": "code",
     "collapsed": false,
     "input": [
      "#This returns the momentum of particles with masses m2 and m3 produced by the decay of a\n",
      "#particle at rest with mass m1\n",
      "def lambda_m(m1,m2,m3):\n",
      "    return 1.0/(2*m1)*math.sqrt(m1**4+m2**4+m3**4-2*m1**2*m2**2-2*m3**2*m2**2-2*m1**2*m3**2)\n",
      "#Reduced mass\n",
      "def mu_r(m1,m2):\n",
      "    return m1*m2/(m1+m2)\n",
      "#Relativistic gamma\n",
      "def gamma(beta):\n",
      "    return 1.0/math.sqrt(1-beta**2)\n",
      "def Epart(beta, m):\n",
      "    return m*gamma(beta)\n",
      "def GammaV(alpha_p, kappa, mv, mx):\n",
      "    term = 0;\n",
      "    if mv>2*mx:\n",
      "        term += alpha_p*(mv*mv-4*mx*mx)*math.sqrt(mv*mv/4.0-mx*mx)\n",
      "    if mv>2*melec:\n",
      "        term += 4*pow(kappa,2)*alpha_em*(2*pow(melec,2)+mv*mv)*math.sqrt(mv*mv/4.0-pow(melec,2))\n",
      "    if mv>2*mmuon:\n",
      "        term += 4*pow(kappa,2)*alpha_em*(2*pow(mmuon,2)+mv*mv)*math.sqrt(mv*mv/4.0-pow(mmuon,2))*(1+rratio(2*Epart(dm_beta,mx)))\n",
      "    return 1.0/(6.0*mv*mv)*(term)\n",
      "#Only includes V->DM+DM at the moment\n",
      "def GammaVB(alpha_B, kappa, mv, mx):\n",
      "    return 2.0/3.0*alpha_B*lambda_m(mv,mx,mx)**3/mv**2"
     ],
     "language": "python",
     "metadata": {},
     "outputs": [],
     "prompt_number": 148
    },
    {
     "cell_type": "code",
     "collapsed": false,
     "input": [
      "LSNDtab = np.loadtxt(\"data/lsnd.dat\",delimiter='\\t')"
     ],
     "language": "python",
     "metadata": {},
     "outputs": [],
     "prompt_number": 99
    },
    {
     "cell_type": "code",
     "collapsed": false,
     "input": [
      "func=k4al\n",
      "mass_arr=np.array([[mv/1000.0,mx/1000.0] for mv in range(10,1000) for mx in range(1,mv/2,1)])\n",
      "alpha_p=0.1\n",
      "fill_val=1000\n",
      "lsnd_vals= np.array([func(mv,mx,alpha_p,(k4alphap/alpha_p)**0.25) for mv,mx,k4alphap in LSNDtab])\n",
      "LSNDdat = griddata(LSNDtab[:,0:2],lsnd_vals[:,2],mass_arr,fill_value=fill_val,method='linear')\n",
      "LSND_tab = zip(mass_arr[:,0],mass_arr[:,1],LSNDdat)"
     ],
     "language": "python",
     "metadata": {},
     "outputs": [],
     "prompt_number": 122
    },
    {
     "cell_type": "code",
     "collapsed": false,
     "input": [
      "E137tab = np.loadtxt(\"data/E137-kappa4XalphaD-mV-mX.csv\",delimiter=',')\n",
      "e137_vals= np.array([func(mv,mx,alpha_p,(k4alphap/alpha_p)**0.25) for mv,mx,k4alphap in E137tab])\n",
      "e137dat = griddata(E137tab[:,0:2],e137_vals[:,2],mass_arr,fill_value=fill_val,method='linear')\n",
      "E137_tab = zip(mass_arr[:,0],mass_arr[:,1],e137dat)"
     ],
     "language": "python",
     "metadata": {},
     "outputs": [
      {
       "output_type": "stream",
       "stream": "stderr",
       "text": [
        "-c:2: RuntimeWarning: invalid value encountered in double_scalars\n"
       ]
      }
     ],
     "prompt_number": 124
    },
    {
     "cell_type": "code",
     "collapsed": false,
     "input": [
      "e137dat2=griddata(E137tab[:,0:2],E137tab[:,2],mass_arr,fill_value=fill_val,method='linear')"
     ],
     "language": "python",
     "metadata": {},
     "outputs": [],
     "prompt_number": 132
    },
    {
     "cell_type": "code",
     "collapsed": false,
     "input": [
      "def k4al(mv,mx,alpha_p,kappa):\n",
      "\treturn [mv,mx,kappa**4*alpha_p]"
     ],
     "language": "python",
     "metadata": {},
     "outputs": [],
     "prompt_number": 115
    },
    {
     "cell_type": "code",
     "collapsed": false,
     "input": [
      "g_minus_2_tab =[k4al(mv,mx,alpha_p,min(kappa_muon_lim(mv),kappa_electron_lim(mv))) for mv,mx in mass_arr]"
     ],
     "language": "python",
     "metadata": {},
     "outputs": [],
     "prompt_number": 47
    },
    {
     "cell_type": "code",
     "collapsed": false,
     "input": [
      "np.savetxt(\"g2_test.dat\",g_minus_2_tab)"
     ],
     "language": "python",
     "metadata": {},
     "outputs": [],
     "prompt_number": 48
    },
    {
     "cell_type": "code",
     "collapsed": false,
     "input": [
      "#Dark Matter Relic Density\n",
      "dm_beta=0.3\n",
      "def sigma_ann_lepton(alphap,kappa,mv,mx,mlepton):\n",
      "    if Epart(dm_beta,mx)>mlepton:\n",
      "        return 8.0*math.pi/3*alphap*alpha_em*kappa**2/((4*Epart(dm_beta,mx)**2-mv**2)**2+mv**2*GammaV(alphap,kappa,mv,mx)**2)*\\\n",
      "    (2*Epart(dm_beta,mx)**2+mlepton**2)*dm_beta**2*math.sqrt(1-mlepton**2/Epart(dm_beta,mx)**2)\n",
      "    return 0\n",
      "def sigma_annihilation_dm(kappa,alphap,mv,mx):\n",
      "    return sigma_ann_lepton(alphap,kappa,mv,mx,melec)+sigma_ann_lepton(alphap,kappa,mv,mx,mmuon)*(1+rratio(2*Epart(dm_beta,mx)))\n",
      "\n",
      "def gen_relic_dm(mv,mx,alpha_p):\n",
      "    g=lambda kappa: sigma_annihilation_dm(kappa,alpha_p,mv,mx)*conversion-relic_density_sigma\n",
      "    return brentq(g,0,100)\n",
      "\n",
      "def gen_relic_dm_fast(mv,mx,alpha_p):\n",
      "    return math.sqrt(relic_density_sigma/(sigma_annihilation_dm(1,alpha_p,mv,mx)*conversion))\n",
      "\n",
      "# def sigma_ann_lepton(alphap,kappa,mv,mx,mlepton,p):\n",
      "#     if math.sqrt(p**2+mx**2)>mlepton:\n",
      "#         return 8.0*math.pi/3.0*alpha_em*alphap*kappa**2/((4*(mx**2+p**2)-mv**2)**2+mv**2*GammaV(alphap,kappa,mv,mx)**2)*\\\n",
      "#     (2*(mx**2+p**2)+mlepton**2)*p/math.sqrt(p**2+mx**2)*math.sqrt(1-mlepton**2/(p**2+mx**2))\n",
      "#     else:\n",
      "#         return 0\n",
      "    \n",
      "# def sigma_annihilation_dm(kappa,alphap,mv,mx,p):\n",
      "#     return sigma_ann_lepton(alphap,kappa,mv,mx,melec,p)+sigma_ann_lepton(alphap,kappa,mv,mx,mmuon,p)*(1+rratio(2*math.sqrt(p**2+mx**2)))\n",
      "\n",
      "# def sigmav_ann_arg(p,kappa,alphap,mv,mx,T):\n",
      "#     return p**2*sigma_annihilation_dm(kappa,alphap,mv,mx,p)*8*math.sqrt((mx*p)**2+p**4)*kn(1,math.sqrt(4*(p**2+mx**2))/T)\n",
      "\n",
      "# def sigmav_annihilation_dm(kappa,alphap,mv,mx,T):\n",
      "#     return quad(sigmav_ann_arg,0.0,10*mx,args=(kappa,alphap,mv,mx,T),epsrel=1e-3,epsabs=0,limit=200)[0]/(mx**4*T*kn(2,mx/T)**2)\n",
      "\n",
      "# def gen_relic_dm_slow(mv,mx,alpha_p):\n",
      "#     g=lambda kappa: sigmav_annihilation_dm(kappa,alpha_p,mv,mx,mx/20.0)*conversion-relic_density_sigma\n",
      "#     return brentq(g,0,1)\n",
      "\n",
      "#def gen_relic_dm(mv,mx,alpha_p):\n",
      "#     return math.sqrt(relic_density_sigma/(sigmav_annihilation_dm(1,alpha_p,mv,mx,mx/20.0)*conversion))"
     ],
     "language": "python",
     "metadata": {},
     "outputs": [],
     "prompt_number": 149
    },
    {
     "cell_type": "code",
     "collapsed": false,
     "input": [
      "#Rare Decay Limits\n",
      "def Br_Jpsi_to_V(mv,mx,alpha_p,kappa):\n",
      "    return Brj_psi_to_ee*kappa**2*alpha_p/(4*alpha_em)*mj_psi**4/((mj_psi**2-mv**2)**2+mv**2*GammaV(alpha_p,kappa,mv,mx)**2)\n",
      "def rarelimit(mv,mx,alpha_p):\n",
      "    g= lambda kappa: Br_Jpsi_to_V(mv,mx,alpha_p,kappa) - Brj_psi_to_invis\n",
      "    return brentq(g,0,1)\n",
      "#Baryonic\n",
      "def Br_Jpsi_to_VB(mv,mx,alpha_B,kappa):\n",
      "    return Brj_psi_to_ee/9.0*alpha_B**2/(4*alpha_em**2)*mj_psi**4/((mj_psi**2-mv**2)**2+mv**2*GammaVB(alpha_B,kappa,mv,mx)**2)\n",
      "def rarelimitB(mv,mx,kappa):\n",
      "    if mv == mj_psi:\n",
      "        return 0\n",
      "    g= lambda alpha_B: (Br_Jpsi_to_VB(mv,mx,alpha_B,kappa) - Brj_psi_to_invis)\n",
      "    return brentq(g,0,1)"
     ],
     "language": "python",
     "metadata": {},
     "outputs": [],
     "prompt_number": 150
    },
    {
     "cell_type": "code",
     "collapsed": false,
     "input": [
      "#Direct_Detection_Limits\n",
      "#1105.5191\n",
      "xenon10_dat = np.loadtxt(\"data/xenon10.dat\")\n",
      "#1207.5988\n",
      "xenon100_dat1 = np.loadtxt(\"data/xenon100_1.dat\")\n",
      "xenon100_dat2 = np.loadtxt(\"data/xenon100_2.dat\")\n",
      "#Where from?\n",
      "damic_dat=np.loadtxt(\"data/damic.dat\")\n",
      "#arXiv:1509.01515\n",
      "cressII2015_dat_unscaled = np.loadtxt(\"data/cressII2015.dat\")\n",
      "cressII2015_dat = zip(cressII2015_dat_unscaled[:,0],cressII2015_dat_unscaled[:,1]*1e-36)\n",
      "#arXiv:1402.7137\n",
      "with open(\"data/SuperCDMS.dat\") as infile:\n",
      "    scdms1=infile.read()\n",
      "    scdms2=[line.split() for line in scdms1.split(';')]\n",
      "    SuperCDMS_dat=[[float(x),float(y)] for x,y in scdms2]\n",
      "#arXiv:1509.02448\n",
      "CDMSlite_dat = np.loadtxt(\"data/cdmslite2015.dat\")\n",
      "#1512.03506\n",
      "LUX_dat_unscaled = np.loadtxt(\"data/lux2015.dat\")\n",
      "LUX_dat = zip(LUX_dat_unscaled[:,0],LUX_dat_unscaled[:,1]*1e-45)\n",
      "Direct_Det_Tab =[xenon10_dat,xenon100_dat1,xenon100_dat2,damic_dat,cressII2015_dat,SuperCDMS_dat,CDMSlite_dat,LUX_dat]"
     ],
     "language": "python",
     "metadata": {},
     "outputs": [],
     "prompt_number": 151
    },
    {
     "cell_type": "code",
     "collapsed": false,
     "input": [
      "Direct_Det_Func=[interp1d(np.array(tab)[:,0],np.array(tab)[:,1],bounds_error=False,fill_value=1e-25) for tab in Direct_Det_Tab]\n",
      "def Direct_Det_Best(x):\n",
      "    return min([f(x) for f in Direct_Det_Func])"
     ],
     "language": "python",
     "metadata": {},
     "outputs": [],
     "prompt_number": 152
    },
    {
     "cell_type": "code",
     "collapsed": false,
     "input": [
      "def Direct_Det(mx):\n",
      "    return min([func(mx) for func in Direct_Det_Func])"
     ],
     "language": "python",
     "metadata": {},
     "outputs": [],
     "prompt_number": 153
    },
    {
     "cell_type": "code",
     "collapsed": false,
     "input": [
      "#From aritz e-mail 2012. Should find a citation for this.\n",
      "def monojet_limit():\n",
      "    return 0.02/math.sqrt(4*math.pi*alpha_em)\n",
      "#1112.5457\n",
      "def monojet_limit_baryonic():\n",
      "    return 9*0.021**2/(4*math.pi)"
     ],
     "language": "python",
     "metadata": {},
     "outputs": [],
     "prompt_number": 154
    },
    {
     "cell_type": "code",
     "collapsed": false,
     "input": [
      "#Muon and Electron g-2\n",
      "def al_int(z,mv,ml):\n",
      "    return 2*ml**2*z*(1-z)**2/(ml**2*(1-z)**2+mv**2*z)\n",
      "def al(mv,mlepton):\n",
      "    return alpha_em/(2*math.pi)*quad(al_int,0,1,args=(mv,mlepton))[0]\n",
      "def kappa_muon_lim(mv):\n",
      "    return math.sqrt(7.4e-9/al(mv,mmuon))\n",
      "def kappa_fav_low(mv):\n",
      "    return math.sqrt(1.3e-9/al(mv,mmuon))\n",
      "def kappa_fav_high(mv):\n",
      "    return math.sqrt(4.8e-9/al(mv,mmuon))\n",
      "def Delta_a_electron(mv,kappa):\n",
      "    return alpha_em/(3*math.pi)*kappa**2*melec**2/mv**2*(1-(7*alpha_em**2-alpha_em/(4*math.pi)))\n",
      "#Constraints on electron g - 2 from Motoi Endo, Koichi Hamaguchi, and Go Mishima's paper 1209.2558\n",
      "def kappa_electron_lim(mv):\n",
      "    g=lambda kappa: Delta_a_electron(mv,kappa)-(-1.06+2*0.82)*1e-12\n",
      "    return brentq(g,0,1)"
     ],
     "language": "python",
     "metadata": {},
     "outputs": [],
     "prompt_number": 155
    },
    {
     "cell_type": "code",
     "collapsed": false,
     "input": [
      "#Invisible Pion Limits\n",
      "#http://inspirehep.net/record/333625?ln=en, Atiya 1992\n",
      "invispiondat = np.loadtxt(\"data/invis_pion.dat\")\n",
      "#Note, this curve has kappa dependence. It is currently assuming kappa=0\n",
      "invispionbaryonicdat = np.loadtxt(\"data/invis_pion_baryonic.dat\")"
     ],
     "language": "python",
     "metadata": {},
     "outputs": [],
     "prompt_number": 156
    },
    {
     "cell_type": "code",
     "collapsed": false,
     "input": [
      "#K^+ --> pi^+ + invisible\n",
      "#Formulae from 0808.2459 and data from E949 0903.0030\n",
      "kpip_invis_dat_1 = np.loadtxt(\"data/kpipinvis1.dat\")\n",
      "kpip_invis_dat_2 = np.loadtxt(\"data/kpipinvis2.dat\")\n",
      "def W2(mv):\n",
      "    return 1e-12*(3+6*mv**2/mkaon**2)\n",
      "def Gamma_K_Vpi(mv,kappa):\n",
      "    return alpha_em*kappa**2*mv**2*W2(mv)*4*lambda_m(mkaon,mpip,mv)**3/(2**9*math.pi**4*mkaon**4)\n",
      "def Br_K_Vpi(mv,kappa):\n",
      "    return Gamma_K_Vpi(mv,kappa)*tauK/hbar\n",
      "def gen_K_Vpi_lim(arr):\n",
      "    return np.array([[mv, math.sqrt(kdat/Br_K_Vpi(mv,1))] for mv,kdat in arr])\n",
      "\n",
      "#Baryonic\n",
      "def Br_K_VpiB(mv,alpha_B):\n",
      "    return 1.4e-3*alpha_B*(mv/0.1)**2\n",
      "def gen_K_VpiB_lim(arr):\n",
      "    return np.array([[mv, kdat/Br_K_VpiB(mv,1)] for mv,kdat in arr])\n",
      "def gen_K_VpiB_lim_conservative(arr):\n",
      "    return np.array([[mv, 10*kdat/Br_K_VpiB(mv,1)] for mv,kdat in arr])"
     ],
     "language": "python",
     "metadata": {},
     "outputs": [],
     "prompt_number": 157
    },
    {
     "cell_type": "code",
     "collapsed": false,
     "input": [
      "#Model Independent Bounds on Kinetic Mixing - Anson Hook, Eder Izaguirre, Jay G.Wacker. 1006.0973\n",
      "zprimedat=np.loadtxt(\"data/zprime.dat\")"
     ],
     "language": "python",
     "metadata": {},
     "outputs": [],
     "prompt_number": 158
    },
    {
     "cell_type": "code",
     "collapsed": false,
     "input": [
      "#Possible sensitivity from repurposed analysis of http://arxiv.org/abs/arXiv:0808.0017\n",
      "babar_dat=np.loadtxt(\"data/babar.dat\")\n",
      "babar_interp = interp1d(babar_dat[:,0],babar_dat[:,1])"
     ],
     "language": "python",
     "metadata": {},
     "outputs": [],
     "prompt_number": 159
    },
    {
     "cell_type": "code",
     "collapsed": false,
     "input": [
      "def babar_func(mv,mx,alpha_p):\n",
      "    if mv < 0.2:\n",
      "        term = babar_interp(0.2)\n",
      "    else:\n",
      "        term = babar_interp(mv)\n",
      "    if 2*mx>mv:\n",
      "        term = 1.0/sqrt(alpha_p)*term\n",
      "    return term"
     ],
     "language": "python",
     "metadata": {},
     "outputs": [],
     "prompt_number": 160
    },
    {
     "cell_type": "code",
     "collapsed": false,
     "input": [
      "#Baryonic Neutron Scattering\n",
      "def neutron_scatter(mv):\n",
      "    return 3.4e-11*(mv/0.001)**4"
     ],
     "language": "python",
     "metadata": {},
     "outputs": [],
     "prompt_number": 161
    },
    {
     "cell_type": "code",
     "collapsed": false,
     "input": [
      "#E137 has to be handled separately.\n",
      "#E137tab = np.loadtxt(\"data/E137-kappa4XalphaD-mV-mX.csv\",delimiter=',')\n",
      "#E137func = SmoothBivariateSpline(E137tab[:,0],E137tab[:,1],E137tab[:,2])"
     ],
     "language": "python",
     "metadata": {},
     "outputs": [],
     "prompt_number": 48
    },
    {
     "cell_type": "code",
     "collapsed": false,
     "input": [
      "# #Produce Tables\n",
      "# def tab_prod(mass_arr,alpha_p,run_name):\n",
      "#     #direct_det = [[mv, mx, Direct_Det(mx)] for mv,mx in mass_arr]\n",
      "#     #np.savetxt(directory_out+\"direct_det.dat\",direct_det)\n",
      "#     relic_tab=[[mv/1000.0,mx/1000.0,gen_relic_dm(mv/1000.0,mx/1000.0,alpha_p)] for mv,mx in mass_arr]\n",
      "#     babar_tab=[[mv/1000.0,mx/1000.0,babar_func(mv/1000.0,mx/1000.0,alpha_p)] for mv,mx in mass_arr]\n",
      "#     rare_tab=[[mv/1000.0,mx/1000.0,rarelimit(mv/1000.0,mx/1000.0,alpha_p)] for mv,mx in mass_arr]\n",
      "#     monojet_tab=[[mv/1000.0,mx/1000.0,monojet_limit()] for mv,mx in mass_arr]\n",
      "#     g_minus_2_tab=[[mv/1000.0,mx/1000.0,min(kappa_muon_lim(mv/1000.0),kappa_electron_lim(mv/1000.0))] for mv,mx in mass_arr]\n",
      "#     g_muon_fav_tab=[[mv/1000.0,mx/1000.0,kappa_fav_low(mv/1000.0),kappa_fav_high(mv/1000.0)] for mv,mx in mass_arr]\n",
      "#     g_K_Vpi_tab_1=gen_K_Vpi_lim(kpip_invis_dat_1)\n",
      "#     g_K_Vpi_tab_2=gen_K_Vpi_lim(kpip_invis_dat_2)\n",
      "#     np.savetxt(run_name+\"babar.dat\",babar_tab)\n",
      "#     np.savetxt(run_name+\"relic_density.dat\",relic_tab)\n",
      "#     np.savetxt(run_name+\"rare_decay.dat\",rare_tab)\n",
      "#     np.savetxt(run_name+\"monojet.dat\",monojet_tab)\n",
      "#     np.savetxt(run_name+\"precision.dat\",g_minus_2_tab)\n",
      "#     np.savetxt(run_name+\"precisionfav.dat\",g_muon_fav_tab)\n",
      "#     np.savetxt(run_name+\"kpipinvisk1.dat\",g_K_Vpi_tab_1)\n",
      "#     np.savetxt(run_name+\"kpipinvisk2.dat\",g_K_Vpi_tab_2)\n",
      "#     np.savetxt(run_name+\"invispionkappa.dat\",invispiondat)"
     ],
     "language": "python",
     "metadata": {},
     "outputs": [],
     "prompt_number": 49
    },
    {
     "cell_type": "code",
     "collapsed": false,
     "input": [
      "#def kappa_to_Y(arr,alpha_p=0.1):\n",
      "#    return [[mv,mx,kappa**2*alpha_p*(mx/mv)**4] for mv,mx,kappa in arr]"
     ],
     "language": "python",
     "metadata": {},
     "outputs": [],
     "prompt_number": 50
    },
    {
     "cell_type": "code",
     "collapsed": false,
     "input": [
      "def Y_func(mv,mx,alpha_p,kappa):\n",
      "    return kappa**2*alpha_p*(mx/mv)**4\n",
      "def kappa_to_Y(arr,alpha_p=0.1):\n",
      "    return [np.append([line[0],line[1]],[Y_func(line[0],line[1],alpha_p,kappa) for kappa in line[2:]]) for line in arr]"
     ],
     "language": "python",
     "metadata": {},
     "outputs": [],
     "prompt_number": 162
    },
    {
     "cell_type": "code",
     "collapsed": false,
     "input": [
      "def tab_prod_Y(mass_arr,alpha_p,run_name,fill_val=1000,kappa_to_Y=kappa_to_Y):\n",
      "    #direct_det = [[mv, mx, Direct_Det(mx)] for mv,mx in mass_arr]\n",
      "    #np.savetxt(directory_out+\"direct_det.dat\",direct_det)\n",
      "    relic_tab=kappa_to_Y([[mv,mx,gen_relic_dm(mv,mx,alpha_p)] for mv,mx in mass_arr],alpha_p=alpha_p)\n",
      "    babar_tab=kappa_to_Y([[mv,mx,babar_func(mv,mx,alpha_p)] for mv,mx in mass_arr],alpha_p=alpha_p)\n",
      "    rare_tab=kappa_to_Y([[mv,mx,rarelimit(mv,mx,alpha_p)] for mv,mx in mass_arr],alpha_p=alpha_p)\n",
      "    monojet_tab=kappa_to_Y([[mv,mx,monojet_limit()] for mv,mx in mass_arr],alpha_p=alpha_p)\n",
      "    g_minus_2_tab=kappa_to_Y([[mv,mx,min(kappa_muon_lim(mv),kappa_electron_lim(mv))] for mv,mx in mass_arr],alpha_p=alpha_p)\n",
      "    g_muon_fav_tab=kappa_to_Y([[mv,mx,kappa_fav_low(mv),kappa_fav_high(mv)] for mv,mx in mass_arr],alpha_p=alpha_p)\n",
      "    \n",
      "    direct_det_tab = kappa_to_Y([[mv,mx,sigman_to_kappa(Direct_Det(mx),mv,mx,alpha_p)] for mv,mx in mass_arr],alpha_p=alpha_p)\n",
      "  \n",
      "    K_Vpi_tab1=gen_K_Vpi_lim(kpip_invis_dat_1)\n",
      "    K_Vpi_func_1=interp1d(K_Vpi_tab1[:,0],K_Vpi_tab1[:,1],bounds_error=False,fill_value=fill_val)\n",
      "    K_Vpi_tab_1 = kappa_to_Y([[mv,mx,K_Vpi_func_1(mv)] for mv,mx in mass_arr],alpha_p=alpha_p)\n",
      "    \n",
      "    K_Vpi_tab2=gen_K_Vpi_lim(kpip_invis_dat_2)\n",
      "    K_Vpi_func_2=interp1d(K_Vpi_tab2[:,0],K_Vpi_tab2[:,1],bounds_error=False,fill_value=fill_val)\n",
      "    K_Vpi_tab_2 =kappa_to_Y([[mv,mx,K_Vpi_func_2(mv)] for mv,mx in mass_arr],alpha_p=alpha_p)\n",
      "    \n",
      "    invispion_func=interp1d(invispiondat[:,0],invispiondat[:,1],bounds_error=False,fill_value=fill_val)\n",
      "    invispion_tab=kappa_to_Y([[mv,mx,invispion_func(mv)] for mv,mx in mass_arr],alpha_p=alpha_p)\n",
      "    \n",
      "    zprime_func=interp1d(zprimedat[:,0],zprimedat[:,1],bounds_error=False,fill_value=fill_val)\n",
      "    zprime_tab=kappa_to_Y([[mv,mx,zprime_func(mv)] for mv,mx in mass_arr],alpha_p=alpha_p)\n",
      "    \n",
      "    \n",
      "    np.savetxt(run_name+\"direct_det.dat\",direct_det_tab)\n",
      "    np.savetxt(run_name+\"babar.dat\",babar_tab)\n",
      "    np.savetxt(run_name+\"relic_density.dat\",relic_tab)\n",
      "    np.savetxt(run_name+\"rare_decay.dat\",rare_tab)\n",
      "    np.savetxt(run_name+\"monojet.dat\",monojet_tab)\n",
      "    np.savetxt(run_name+\"precision.dat\",g_minus_2_tab)\n",
      "    np.savetxt(run_name+\"precisionfav.dat\",g_muon_fav_tab)\n",
      "    np.savetxt(run_name+\"kpipinvisk1.dat\",K_Vpi_tab_1)\n",
      "    np.savetxt(run_name+\"kpipinvisk2.dat\",K_Vpi_tab_2)\n",
      "    np.savetxt(run_name+\"invispion.dat\",invispion_tab)\n",
      "    np.savetxt(run_name+\"zprime.dat\",zprime_tab)"
     ],
     "language": "python",
     "metadata": {},
     "outputs": [],
     "prompt_number": 163
    },
    {
     "cell_type": "code",
     "collapsed": false,
     "input": [
      "marr=[[mv/1000.0,mv/3000.0] for mv in range(3,4000,1)]"
     ],
     "language": "python",
     "metadata": {},
     "outputs": [],
     "prompt_number": 60
    },
    {
     "cell_type": "code",
     "collapsed": false,
     "input": [
      "import itertools"
     ],
     "language": "python",
     "metadata": {},
     "outputs": [],
     "prompt_number": 12
    },
    {
     "cell_type": "code",
     "collapsed": false,
     "input": [
      "marr=[[mv,mx] for mv in range(10,1000) for mx in range(1,mv/2,1)]"
     ],
     "language": "python",
     "metadata": {},
     "outputs": [],
     "prompt_number": 15
    },
    {
     "cell_type": "code",
     "collapsed": false,
     "input": [
      "marr2=[[mv/1000.0,mv/3000.0] for mv in range(3,4000,1)]"
     ],
     "language": "python",
     "metadata": {},
     "outputs": [],
     "prompt_number": 169
    },
    {
     "cell_type": "code",
     "collapsed": false,
     "input": [
      "marr3=[[mv/1000.0,mv/5000.0] for mv in range(3,5000,1)]"
     ],
     "language": "python",
     "metadata": {},
     "outputs": [],
     "prompt_number": 27
    },
    {
     "cell_type": "code",
     "collapsed": false,
     "input": [
      "test1=tab_prod_Y(marr2,0.5,\"output/Y_\")"
     ],
     "language": "python",
     "metadata": {},
     "outputs": [],
     "prompt_number": 170
    },
    {
     "cell_type": "code",
     "collapsed": false,
     "input": [
      "np.savetxt(\"test.dat\",test1)"
     ],
     "language": "python",
     "metadata": {},
     "outputs": [],
     "prompt_number": 215
    },
    {
     "cell_type": "code",
     "collapsed": false,
     "input": [
      "test2=tab_prod_Y(marr3,0.5,\"output/Y_\")"
     ],
     "language": "python",
     "metadata": {},
     "outputs": [],
     "prompt_number": 28
    },
    {
     "cell_type": "code",
     "collapsed": false,
     "input": [
      "#def GF_func(mv,alpha_b):\n",
      "#    return 4*math.pi*alpha_b/mv**2"
     ],
     "language": "python",
     "metadata": {},
     "outputs": [],
     "prompt_number": 57
    },
    {
     "cell_type": "code",
     "collapsed": false,
     "input": [
      "def GF_func(mv,alpha_b):\n",
      "    return alpha_b"
     ],
     "language": "python",
     "metadata": {},
     "outputs": [],
     "prompt_number": 167
    },
    {
     "cell_type": "code",
     "collapsed": false,
     "input": [
      "def alpha_b_to_GF(arr):\n",
      "    return [np.append([line[0],line[1]],[GF_func(line[0],alpha_b) for alpha_b in line[2:]]) for line in arr]"
     ],
     "language": "python",
     "metadata": {},
     "outputs": [],
     "prompt_number": 168
    },
    {
     "cell_type": "code",
     "collapsed": false,
     "input": [
      "def tab_prod_GF(mass_arr,run_name,fill_val=1000):\n",
      "    neutron_tab = alpha_b_to_GF([[mv, mx, neutron_scatter(mv)] for mv,mx in mass_arr])\n",
      "    \n",
      "    direct_det_tab = alpha_b_to_GF([[mv,mx,sigman_to_alpha_b(Direct_Det(mx),mv,mx)] for mv,mx in mass_arr])\n",
      "    \n",
      "    invispion_func=interp1d(invispionbaryonicdat[:,0],invispionbaryonicdat[:,1],bounds_error=False,fill_value=fill_val)\n",
      "    invispion_tab=alpha_b_to_GF([[mv,mx,invispion_func(mv)] for mv,mx in mass_arr])\n",
      "    \n",
      "    K_Vpi_tab1=gen_K_VpiB_lim(kpip_invis_dat_1)\n",
      "    K_Vpi_func_1=interp1d(K_Vpi_tab1[:,0],K_Vpi_tab1[:,1],bounds_error=False,fill_value=fill_val)\n",
      "    K_Vpi_tab_1 = alpha_b_to_GF([[mv,mx,K_Vpi_func_1(mv)] for mv,mx in mass_arr])\n",
      "    \n",
      "    K_Vpi_tab2=gen_K_VpiB_lim(kpip_invis_dat_2)\n",
      "    K_Vpi_func_2=interp1d(K_Vpi_tab2[:,0],K_Vpi_tab2[:,1],bounds_error=False,fill_value=fill_val)\n",
      "    K_Vpi_tab_2 =alpha_b_to_GF([[mv,mx,K_Vpi_func_2(mv)] for mv,mx in mass_arr])\n",
      "    \n",
      "    K_Vpi_tab1c=gen_K_VpiB_lim_conservative(kpip_invis_dat_1)\n",
      "    K_Vpi_func_1c=interp1d(K_Vpi_tab1c[:,0],K_Vpi_tab1c[:,1],bounds_error=False,fill_value=fill_val)\n",
      "    K_Vpi_tab_1c = alpha_b_to_GF([[mv,mx,K_Vpi_func_1c(mv)] for mv,mx in mass_arr])\n",
      "    \n",
      "    K_Vpi_tab2c=gen_K_VpiB_lim_conservative(kpip_invis_dat_2)\n",
      "    K_Vpi_func_2c=interp1d(K_Vpi_tab2c[:,0],K_Vpi_tab2c[:,1],bounds_error=False,fill_value=fill_val)\n",
      "    K_Vpi_tab_2c =alpha_b_to_GF([[mv,mx,K_Vpi_func_2c(mv)] for mv,mx in mass_arr])\n",
      "    \n",
      "    monojet_tab=alpha_b_to_GF([[mv,mx,monojet_limit_baryonic()] for mv,mx in mass_arr])\n",
      "        \n",
      "    rare_tab=alpha_b_to_GF([[mv,mx,rarelimitB(mv,mx,0)] for mv,mx in mass_arr])\n",
      "    \n",
      "    np.savetxt(run_name+\"neutronscatter.dat\",neutron_tab)\n",
      "    np.savetxt(run_name+\"direct_det.dat\",direct_det_tab)\n",
      "    np.savetxt(run_name+\"invispion.dat\",invispion_tab)\n",
      "    np.savetxt(run_name+\"kpipinvisk1.dat\",K_Vpi_tab_1)\n",
      "    np.savetxt(run_name+\"kpipinvisk2.dat\",K_Vpi_tab_2)\n",
      "    np.savetxt(run_name+\"kpipinvisk1conservative.dat\",K_Vpi_tab_1c)\n",
      "    np.savetxt(run_name+\"kpipinvisk2conservative.dat\",K_Vpi_tab_2c)\n",
      "    np.savetxt(run_name+\"monojet.dat\",monojet_tab)\n",
      "    np.savetxt(run_name+\"rare_decay.dat\",rare_tab)"
     ],
     "language": "python",
     "metadata": {},
     "outputs": [],
     "prompt_number": 166
    },
    {
     "cell_type": "code",
     "collapsed": false,
     "input": [
      "tab_prod_GF(marr,\"output/GF_\")"
     ],
     "language": "python",
     "metadata": {},
     "outputs": [],
     "prompt_number": 61
    },
    {
     "cell_type": "code",
     "collapsed": false,
     "input": [],
     "language": "python",
     "metadata": {},
     "outputs": [],
     "prompt_number": 61
    }
   ],
   "metadata": {}
  }
 ]
}