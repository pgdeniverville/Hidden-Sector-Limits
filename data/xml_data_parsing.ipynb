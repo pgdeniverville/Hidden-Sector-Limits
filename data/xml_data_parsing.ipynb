{
 "cells": [
  {
   "cell_type": "code",
   "execution_count": 1,
   "metadata": {
    "collapsed": false
   },
   "outputs": [],
   "source": [
    "import numpy as np\n",
    "import matplotlib.pyplot as plt"
   ]
  },
  {
   "cell_type": "code",
   "execution_count": 2,
   "metadata": {
    "collapsed": false
   },
   "outputs": [],
   "source": [
    "def log_translate(x1,x2,X1,X2):\n",
    "    B=np.log10(float(X1)/float(X2))/(x1-x2)\n",
    "    A=np.log10(X1)-B*x1\n",
    "    return [A,B]\n",
    "def format_xml_arr(arr):\n",
    "    for i in range(1,len(arr)):\n",
    "        arr[i]+=arr[i-1]\n",
    "def log_translate_arr(Ax,Bx,Ay,By,arr):\n",
    "    return 10**([Ax,Ay]+[Bx,By]*arr)"
   ]
  },
  {
   "cell_type": "code",
   "execution_count": 3,
   "metadata": {
    "collapsed": false
   },
   "outputs": [],
   "source": [
    "xenon10e=np.loadtxt(\"xenon10e.dat\",delimiter=',')\n",
    "format_xml_arr(xenon10e)\n",
    "x1=159; x2=217; X1=0.010; X2=0.100\n",
    "y1=36; y2=83; Y1=1e-34; Y2=1e-36\n",
    "Ax,Bx=log_translate(x1,x2,X1,X2)\n",
    "Ay,By=log_translate(y1,y2,Y1,Y2)\n",
    "xenon10e=log_translate_arr(Ax,Bx,Ay,By,xenon10e)"
   ]
  },
  {
   "cell_type": "code",
   "execution_count": 66,
   "metadata": {
    "collapsed": false
   },
   "outputs": [],
   "source": [
    "np.savetxt(\"xenon10e_formatted.csv\",xenon10e,delimiter=',')"
   ]
  },
  {
   "cell_type": "code",
   "execution_count": 13,
   "metadata": {
    "collapsed": false
   },
   "outputs": [],
   "source": [
    "#1703.00910\n",
    "#This is FDM=1 case, Xenon10. It basically beats Xenon100 everywhere.\n",
    "xenon10e2017=np.loadtxt(\"1703.00910.xenonelimits.dat\",delimiter=',')\n",
    "format_xml_arr(xenon10e2017)\n",
    "x1=93.305; x2=195.719; X1=0.010; X2=0.100\n",
    "y1=86.695; y2=151.848; Y1=1e-38; Y2=1e-37\n",
    "Ax,Bx=log_translate(x1,x2,X1,X2)\n",
    "Ay,By=log_translate(y1,y2,Y1,Y2)\n",
    "xenon10e2017=log_translate_arr(Ax,Bx,Ay,By,xenon10e2017)\n",
    "xenon100e2017=np.loadtxt(\"1703.00910.xenon100elimits.dat\",delimiter=',')\n",
    "format_xml_arr(xenon100e2017)\n",
    "xenon100e2017=log_translate_arr(Ax,Bx,Ay,By,xenon100e2017)"
   ]
  },
  {
   "cell_type": "code",
   "execution_count": 15,
   "metadata": {
    "collapsed": true
   },
   "outputs": [],
   "source": [
    "np.savetxt(\"xenon10e_2017_formatted.csv\",xenon10e2017,delimiter=',')\n",
    "np.savetxt(\"xenon100e_2017_formatted.csv\",xenon100e2017,delimiter=',')"
   ]
  },
  {
   "cell_type": "code",
   "execution_count": 15,
   "metadata": {
    "collapsed": false
   },
   "outputs": [],
   "source": [
    "babar2017=np.loadtxt(\"babar2017.dat\",delimiter=',')\n",
    "format_xml_arr(babar2017)\n",
    "y1=211.843; y2=50.1547; Y1=1e-3; Y2=1e-4;\n",
    "x1=181.417; x2=430.866; X1=1e-2; X2=1.0\n",
    "Ax,Bx=log_translate(x1,x2,X1,X2)\n",
    "Ay,By=log_translate(y1,y2,Y1,Y2)\n",
    "babar2017_formatted=log_translate_arr(Ax,Bx,Ay,By,babar2017)"
   ]
  },
  {
   "cell_type": "code",
   "execution_count": 17,
   "metadata": {
    "collapsed": false
   },
   "outputs": [],
   "source": [
    "np.savetxt(\"babar2017_formatted.dat\",babar2017_formatted,delimiter=' ')"
   ]
  },
  {
   "cell_type": "code",
   "execution_count": 5,
   "metadata": {
    "collapsed": false
   },
   "outputs": [],
   "source": [
    "NA64_2016 = np.loadtxt(\"NA64_2016_data.dat\",delimiter=',')\n",
    "format_xml_arr(NA64_2016)\n",
    "NA64_2017 = np.loadtxt(\"NA64_2017_data.dat\",delimiter=',')\n",
    "format_xml_arr(NA64_2017)\n",
    "NA64_2018 = np.loadtxt(\"NA64_2018plus_data.dat\",delimiter=',')\n",
    "format_xml_arr(NA64_2018)\n",
    "y1=186.935;y2=105.657;Y1=1e-4;Y2=2e-5;\n",
    "x1=202.677;x2=314.646;X1=1e-2;X2=1e-1;\n",
    "Ax,Bx=log_translate(x1,x2,X1,X2)\n",
    "Ay,By=log_translate(y1,y2,Y1,Y2)\n",
    "NA64_2016_formatted=log_translate_arr(Ax,Bx,Ay,By,NA64_2016)\n",
    "NA64_2017_formatted=log_translate_arr(Ax,Bx,Ay,By,NA64_2017)\n",
    "NA64_2018_formatted=log_translate_arr(Ax,Bx,Ay,By,NA64_2018)"
   ]
  },
  {
   "cell_type": "code",
   "execution_count": 1,
   "metadata": {
    "collapsed": false
   },
   "outputs": [
    {
     "ename": "NameError",
     "evalue": "name 'np' is not defined",
     "output_type": "error",
     "traceback": [
      "\u001b[0;31m---------------------------------------------------------------------------\u001b[0m",
      "\u001b[0;31mNameError\u001b[0m                                 Traceback (most recent call last)",
      "\u001b[0;32m<ipython-input-1-1f02aafdbfc2>\u001b[0m in \u001b[0;36m<module>\u001b[0;34m()\u001b[0m\n\u001b[0;32m----> 1\u001b[0;31m \u001b[0mNA64_2018\u001b[0m \u001b[0;34m=\u001b[0m \u001b[0mnp\u001b[0m\u001b[0;34m.\u001b[0m\u001b[0mloadtxt\u001b[0m\u001b[0;34m(\u001b[0m\u001b[0;34m\"NA64_2018.dat\"\u001b[0m\u001b[0;34m,\u001b[0m\u001b[0mdelimiter\u001b[0m\u001b[0;34m=\u001b[0m\u001b[0;34m','\u001b[0m\u001b[0;34m)\u001b[0m\u001b[0;34m\u001b[0m\u001b[0m\n\u001b[0m",
      "\u001b[0;31mNameError\u001b[0m: name 'np' is not defined"
     ]
    }
   ],
   "source": []
  },
  {
   "cell_type": "code",
   "execution_count": 6,
   "metadata": {
    "collapsed": false
   },
   "outputs": [],
   "source": [
    "np.savetxt(\"NA64_2016_formatted.dat\",NA64_2016_formatted,delimiter=' ')\n",
    "np.savetxt(\"NA64_2017_formatted.dat\",NA64_2017_formatted,delimiter=' ')\n",
    "np.savetxt(\"NA64_2018_formatted.dat\",NA64_2018_formatted,delimiter=' ')"
   ]
  },
  {
   "cell_type": "code",
   "execution_count": 5,
   "metadata": {
    "collapsed": false
   },
   "outputs": [],
   "source": [
    "anomalon_1705_06726= np.loadtxt(\"Anomalon.dat\",delimiter=',')\n",
    "format_xml_arr(anomalon_1705_06726)\n",
    "BtoKX_1705_06726= np.loadtxt(\"1705.06726.BtoKX.dat\",delimiter=',')\n",
    "format_xml_arr(BtoKX_1705_06726)\n",
    "ZtogammaX_1705_06726= np.loadtxt(\"1705.06726.ZtogammaX.dat\",delimiter=',')\n",
    "format_xml_arr(ZtogammaX_1705_06726)\n",
    "KtopiX_1705_06726= np.loadtxt(\"1705.06726.KtopiX.dat\",delimiter=',')\n",
    "format_xml_arr(KtopiX_1705_06726)\n",
    "y1=389.711;y2=188.273;Y1=10**-2;Y2=10**-5;\n",
    "x1=272.109;x2=478.285;X1=10**-2;X2=1;\n",
    "Ax,Bx=log_translate(x1,x2,X1,X2)\n",
    "Ay,By=log_translate(y1,y2,Y1,Y2)\n",
    "anomalon_1705_06726_formatted=log_translate_arr(Ax,Bx,Ay,By,anomalon_1705_06726)\n",
    "BtoKX_1705_06726_formatted=log_translate_arr(Ax,Bx,Ay,By,BtoKX_1705_06726)\n",
    "ZtogammaX_1705_06726_formatted=log_translate_arr(Ax,Bx,Ay,By,ZtogammaX_1705_06726)\n",
    "KtopiX_1705_06726_formatted=log_translate_arr(Ax,Bx,Ay,By,KtopiX_1705_06726)"
   ]
  },
  {
   "cell_type": "code",
   "execution_count": 7,
   "metadata": {
    "collapsed": false
   },
   "outputs": [],
   "source": [
    "np.savetxt(\"Anomalon_formatted.dat\",anomalon_1705_06726_formatted,delimiter=' ')\n",
    "np.savetxt(\"1705.06726.BtoKX_formatted.dat\",BtoKX_1705_06726_formatted,delimiter=' ')\n",
    "    np.savetxt(\"1705.06726.ZtogammaX_formatted.dat\",ZtogammaX_1705_06726_formatted,delimiter=' ')\n",
    "np.savetxt(\"1705.06726.KtopiX_formatted.dat\",KtopiX_1705_06726_formatted,delimiter=' ')"
   ]
  },
  {
   "cell_type": "code",
   "execution_count": 9,
   "metadata": {
    "collapsed": false
   },
   "outputs": [
    {
     "data": {
      "text/plain": [
       "array([  8.19973429e-01,   7.41233473e-01,   6.83046550e-01,\n",
       "         6.38470794e-01,   6.02727394e-01,   5.54233597e-01,\n",
       "         5.12972899e-01,   4.70827826e-01,   4.18007130e-01,\n",
       "         3.70146285e-01,   3.38828121e-01,   3.13904847e-01,\n",
       "         2.88747923e-01,   2.66720657e-01,   2.45210585e-01,\n",
       "         2.21056364e-01,   1.98490285e-01,   1.80676999e-01,\n",
       "         1.64541322e-01,   1.51396200e-01,   1.42304410e-01,\n",
       "         1.31701326e-01,   1.22382494e-01,   1.15531176e-01,\n",
       "         1.06213997e-01,   9.63972347e-02,   8.91657518e-02,\n",
       "         8.20142159e-02,   7.41335154e-02,   6.83187104e-02,\n",
       "         6.38602175e-02,   6.02851420e-02,   5.54347644e-02,\n",
       "         5.15936712e-02,   4.83425628e-02,   4.44530524e-02,\n",
       "         4.04969794e-02,   3.75001241e-02,   3.51732688e-02,\n",
       "         3.29139525e-02,   3.10032188e-02,   2.88946027e-02,\n",
       "         2.66921955e-02,   2.45446145e-02,   2.21041204e-02,\n",
       "         1.96095289e-02,   1.72989063e-02,   1.56871496e-02,\n",
       "         1.39243922e-02,   1.25898585e-02,   1.15523252e-02,\n",
       "         1.06199429e-02,   9.61001826e-03,   8.49802887e-03,\n",
       "         7.49463598e-03,   6.68127368e-03,   5.74553420e-03,\n",
       "         4.94661290e-03,   4.35417885e-03,   3.82272221e-03,\n",
       "         3.32383466e-03,   3.00692296e-03,   2.68482568e-03,\n",
       "         2.39263187e-03,   2.12028008e-03,   1.88047694e-03,\n",
       "         1.65889729e-03,   1.50474890e-03,   1.36858009e-03,\n",
       "         1.25820897e-03,   1.15483644e-03,   1.04165181e-03,\n",
       "         9.20110508e-04,   8.08026511e-04,   7.10326500e-04,\n",
       "         6.08751266e-04,   5.06540094e-04,   4.29132756e-04,\n",
       "         3.75438723e-04,   3.25480478e-04,   2.78707962e-04,\n",
       "         2.54375123e-04,   2.28219862e-04,   2.00089453e-04,\n",
       "         1.72538804e-04,   1.48384221e-04,   1.25338580e-04,\n",
       "         1.05930276e-04,   8.57237190e-05,   6.65155494e-05,\n",
       "         5.28398899e-05,   3.94903723e-05,   2.87877878e-05,\n",
       "         2.09627755e-05,   1.61389537e-05,   1.18980919e-05,\n",
       "         8.81624016e-06,   6.34977255e-06,   4.78871757e-06,\n",
       "         3.18611575e-06,   2.27875771e-06,   1.68712327e-06,\n",
       "         1.19931282e-06,   7.77047703e-07,   5.55603712e-07,\n",
       "         3.45895559e-07,   2.21010886e-07,   1.58918172e-07,\n",
       "         1.27200473e-07,   9.07575623e-08,   6.94477973e-08,\n",
       "         5.37832015e-08,   3.83033298e-08,   2.41671042e-08,\n",
       "         1.73642835e-08,   1.30783210e-08,   9.27905286e-09,\n",
       "         6.65292366e-09,   4.64127050e-09,   3.30519414e-09,\n",
       "         2.19967461e-09,   1.46071929e-09,   9.58171881e-10,\n",
       "         6.83655825e-10,   4.78970296e-10,   3.25324256e-10,\n",
       "         2.32612957e-10,   1.72266849e-10,   1.22458059e-10,\n",
       "         8.35700106e-11,   6.16778140e-11,   4.41946594e-11,\n",
       "         2.89501442e-11,   2.08123572e-11,   1.60143596e-11,\n",
       "         1.27226648e-11,   9.07762379e-12,   6.45250063e-12,\n",
       "         4.59534301e-12,   2.86322324e-12,   1.75402341e-12,\n",
       "         1.21229650e-12,   9.14260396e-13,   6.55509211e-13,\n",
       "         5.20735901e-13,   3.89069960e-13])"
      ]
     },
     "execution_count": 9,
     "metadata": {},
     "output_type": "execute_result"
    }
   ],
   "source": [
    "anomalon_1705_06726_formatted[:,1]**2"
   ]
  },
  {
   "cell_type": "code",
   "execution_count": 7,
   "metadata": {
    "collapsed": false
   },
   "outputs": [],
   "source": [
    "NA64_2018 = np.loadtxt(\"NA64_2018.dat\",delimiter=',')\n",
    "format_xml_arr(NA64_2018)\n",
    "x1=125.29126;x2=200.49438;X1=1e-2;X2=1e-1;\n",
    "y1=116.07875;y2=193.88962;Y1=1e-4;Y2=1e-3;\n",
    "Ax,Bx=log_translate(x1,x2,X1,X2)\n",
    "Ay,By=log_translate(y1,y2,Y1,Y2)\n",
    "NA64_2018_formatted = log_translate_arr(Ax,Bx,Ay,By,NA64_2018)\n",
    "np.savetxt(\"NA64_2017_formatted.dat\",NA64_2018_formatted,delimiter=' ')"
   ]
  },
  {
   "cell_type": "code",
   "execution_count": null,
   "metadata": {
    "collapsed": true
   },
   "outputs": [],
   "source": []
  }
 ],
 "metadata": {
  "kernelspec": {
   "display_name": "Python 3",
   "language": "python",
   "name": "python3"
  },
  "language_info": {
   "codemirror_mode": {
    "name": "ipython",
    "version": 3
   },
   "file_extension": ".py",
   "mimetype": "text/x-python",
   "name": "python",
   "nbconvert_exporter": "python",
   "pygments_lexer": "ipython3",
   "version": "3.6.3"
  }
 },
 "nbformat": 4,
 "nbformat_minor": 0
}
