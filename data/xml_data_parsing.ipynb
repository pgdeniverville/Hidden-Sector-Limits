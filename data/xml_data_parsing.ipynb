{
 "metadata": {
  "name": "",
  "signature": "sha256:a47c6e8830089396daba220b5006f35cbffc2c1889b2d0f3cd7fb7a2882ac0bc"
 },
 "nbformat": 3,
 "nbformat_minor": 0,
 "worksheets": [
  {
   "cells": [
    {
     "cell_type": "code",
     "collapsed": false,
     "input": [
      "import numpy as np"
     ],
     "language": "python",
     "metadata": {},
     "outputs": [],
     "prompt_number": 1
    },
    {
     "cell_type": "code",
     "collapsed": false,
     "input": [
      "def log_translate(x1,x2,X1,X2):\n",
      "    B=np.log10(float(X1)/float(X2))/(x1-x2)\n",
      "    A=np.log10(X1)-B*x1\n",
      "    return [A,B]\n",
      "def format_xml_arr(arr):\n",
      "    for i in range(1,len(arr)):\n",
      "        arr[i]+=arr[i-1]\n",
      "def log_translate_arr(Ax,Bx,Ay,By,arr):\n",
      "    return 10**([Ax,Ay]+[Bx,By]*arr)"
     ],
     "language": "python",
     "metadata": {},
     "outputs": [],
     "prompt_number": 12
    },
    {
     "cell_type": "code",
     "collapsed": false,
     "input": [
      "xenon10e=np.loadtxt(\"xenon10e.dat\",delimiter=',')\n",
      "format_xml_arr(xenon10e)\n",
      "x1=159; x2=217; X1=0.010; X2=0.100\n",
      "y1=36; y2=83; Y1=1e-34; Y2=1e-36\n",
      "Ax,Bx=log_translate(x1,x2,X1,X2)\n",
      "Ay,By=log_translate(y1,y2,Y1,Y2)\n",
      "xenon10e=log_translate_arr(Ax,Bx,Ay,By,xenon10e)"
     ],
     "language": "python",
     "metadata": {},
     "outputs": [],
     "prompt_number": 65
    },
    {
     "cell_type": "code",
     "collapsed": false,
     "input": [
      "np.savetxt(\"xenon10e_formatted.csv\",xenon10e,delimiter=',')"
     ],
     "language": "python",
     "metadata": {},
     "outputs": [],
     "prompt_number": 66
    },
    {
     "cell_type": "code",
     "collapsed": false,
     "input": [
      "babar2017=np.loadtxt(\"babar2017.dat\",delimiter=',')\n",
      "format_xml_arr(babar2017)\n",
      "y1=211.843; y2=50.1547; Y1=1e-3; Y2=1e-4;\n",
      "x1=181.417; x2=430.866; X1=1e-2; X2=1.0\n",
      "Ax,Bx=log_translate(x1,x2,X1,X2)\n",
      "Ay,By=log_translate(y1,y2,Y1,Y2)\n",
      "babar2017_formatted=log_translate_arr(Ax,Bx,Ay,By,babar2017)"
     ],
     "language": "python",
     "metadata": {},
     "outputs": [],
     "prompt_number": 15
    },
    {
     "cell_type": "code",
     "collapsed": false,
     "input": [
      "np.savetxt(\"babar2017_formatted.dat\",babar2017_formatted,delimiter=' ')"
     ],
     "language": "python",
     "metadata": {},
     "outputs": [],
     "prompt_number": 17
    },
    {
     "cell_type": "code",
     "collapsed": false,
     "input": [],
     "language": "python",
     "metadata": {},
     "outputs": []
    }
   ],
   "metadata": {}
  }
 ]
}