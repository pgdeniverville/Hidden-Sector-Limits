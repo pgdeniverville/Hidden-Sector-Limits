{
 "metadata": {
  "name": "",
  "signature": "sha256:38f4c7a3d88dd07f02557fdcc1e55492abcdcb60ef810a9088412232fb63ed34"
 },
 "nbformat": 3,
 "nbformat_minor": 0,
 "worksheets": [
  {
   "cells": [
    {
     "cell_type": "code",
     "collapsed": false,
     "input": [
      "import numpy as np"
     ],
     "language": "python",
     "metadata": {},
     "outputs": [],
     "prompt_number": 1
    },
    {
     "cell_type": "code",
     "collapsed": false,
     "input": [
      "def log_translate(x1,x2,X1,X2):\n",
      "    B=np.log10(float(X1)/float(X2))/(x1-x2)\n",
      "    A=np.log10(X1)-B*x1\n",
      "    return [A,B]\n",
      "def format_xml_arr(arr):\n",
      "    for i in range(1,len(arr)):\n",
      "        arr[i]+=arr[i-1]\n",
      "def log_translate_arr(Ax,Bx,Ay,By,arr):\n",
      "    return 10**([Ax,Ay]+[Bx,By]*xenon10e)"
     ],
     "language": "python",
     "metadata": {},
     "outputs": [],
     "prompt_number": 64
    },
    {
     "cell_type": "code",
     "collapsed": false,
     "input": [
      "xenon10e=np.loadtxt(\"xenon10e.dat\",delimiter=',')\n",
      "format_xml_arr(xenon10e)\n",
      "x1=159; x2=217; X1=0.010; X2=0.100\n",
      "y1=36; y2=83; Y1=1e-34; Y2=1e-36\n",
      "Ax,Bx=log_translate(x1,x2,X1,X2)\n",
      "Ay,By=log_translate(y1,y2,Y1,Y2)\n",
      "xenon10e=log_translate_arr(Ax,Bx,Ay,By,xenon10e)"
     ],
     "language": "python",
     "metadata": {},
     "outputs": [],
     "prompt_number": 65
    },
    {
     "cell_type": "code",
     "collapsed": false,
     "input": [
      "np.savetxt(\"xenon10e_formatted.csv\",xenon10e,delimiter=',')"
     ],
     "language": "python",
     "metadata": {},
     "outputs": [],
     "prompt_number": 66
    },
    {
     "cell_type": "code",
     "collapsed": false,
     "input": [],
     "language": "python",
     "metadata": {},
     "outputs": []
    }
   ],
   "metadata": {}
  }
 ]
}